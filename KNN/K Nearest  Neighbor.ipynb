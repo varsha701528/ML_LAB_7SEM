{
 "cells": [
  {
   "cell_type": "code",
   "execution_count": 10,
   "metadata": {},
   "outputs": [
    {
     "name": "stdout",
     "output_type": "stream",
     "text": [
      "[[5.1 3.5 1.4 0.2]\n",
      " [4.9 3.  1.4 0.2]\n",
      " [4.7 3.2 1.3 0.2]\n",
      " [4.6 3.1 1.5 0.2]\n",
      " [5.  3.6 1.4 0.2]] [0 0 0 0 0]\n"
     ]
    }
   ],
   "source": [
    "import numpy as np\n",
    "from sklearn.datasets import load_iris \n",
    "iris=load_iris()\n",
    "\n",
    "\n",
    "x=iris.data \n",
    "y=iris.target\n",
    "print(x[:5],y[:5]) "
   ]
  },
  {
   "cell_type": "code",
   "execution_count": 11,
   "metadata": {},
   "outputs": [
    {
     "name": "stdout",
     "output_type": "stream",
     "text": [
      "(150, 4)\n",
      "90\n",
      "60\n"
     ]
    }
   ],
   "source": [
    "from sklearn.model_selection import train_test_split \n",
    "\n",
    "xtrain,xtest,ytrain,ytest =train_test_split(x,y,test_size=0.4,random_state=1)\n",
    "\n",
    "print(iris.data.shape) \n",
    "\n",
    "print(len(xtrain)) \n",
    "\n",
    "print(len(ytest))\n"
   ]
  },
  {
   "cell_type": "code",
   "execution_count": 12,
   "metadata": {},
   "outputs": [],
   "source": [
    "from sklearn.neighbors import KNeighborsClassifier \n",
    "\n",
    "knn=KNeighborsClassifier(n_neighbors=5) \n",
    "\n",
    "knn.fit(xtrain,ytrain)\n",
    "\n",
    "\n",
    "pred=knn.predict(xtest)\n"
   ]
  },
  {
   "cell_type": "code",
   "execution_count": 13,
   "metadata": {},
   "outputs": [
    {
     "name": "stdout",
     "output_type": "stream",
     "text": [
      "0.9833333333333333\n"
     ]
    }
   ],
   "source": [
    "from sklearn import metrics \n",
    "print(metrics.accuracy_score(ytest,pred))\n",
    "\n"
   ]
  },
  {
   "cell_type": "code",
   "execution_count": 14,
   "metadata": {},
   "outputs": [
    {
     "name": "stdout",
     "output_type": "stream",
     "text": [
      "virginica\n"
     ]
    }
   ],
   "source": [
    "print(iris.target_names[2]) \n",
    "ytestn=[iris.target_names[i] for i in ytest]\n",
    "predn=[iris.target_names[i] for i in pred]\n",
    "\n"
   ]
  },
  {
   "cell_type": "code",
   "execution_count": 15,
   "metadata": {},
   "outputs": [
    {
     "name": "stdout",
     "output_type": "stream",
     "text": [
      "  predicted     Actual\n",
      "0   setosa     setosa\n",
      "1   versicolor     versicolor\n",
      "2   versicolor     versicolor\n",
      "3   setosa     setosa\n",
      "4   virginica     virginica\n",
      "5   versicolor     versicolor\n",
      "6   virginica     virginica\n",
      "7   setosa     setosa\n",
      "8   setosa     setosa\n",
      "9   virginica     virginica\n",
      "10   versicolor     versicolor\n",
      "11   setosa     setosa\n",
      "12   virginica     virginica\n",
      "13   versicolor     versicolor\n",
      "14   versicolor     versicolor\n",
      "15   setosa     setosa\n",
      "16   versicolor     versicolor\n",
      "17   versicolor     versicolor\n",
      "18   setosa     setosa\n",
      "19   setosa     setosa\n",
      "20   versicolor     versicolor\n",
      "21   versicolor     versicolor\n",
      "22   versicolor     versicolor\n",
      "23   setosa     setosa\n",
      "24   virginica     virginica\n",
      "25   versicolor     versicolor\n",
      "26   setosa     setosa\n",
      "27   setosa     setosa\n",
      "28   versicolor     versicolor\n",
      "29   virginica     virginica\n",
      "30   versicolor     versicolor\n",
      "31   virginica     virginica\n",
      "32   versicolor     versicolor\n",
      "33   virginica     virginica\n",
      "34   virginica     virginica\n",
      "35   setosa     setosa\n",
      "36   versicolor     versicolor\n",
      "37   setosa     setosa\n",
      "38   versicolor     versicolor\n",
      "39   virginica     virginica\n",
      "40   virginica     virginica\n",
      "41   setosa     setosa\n",
      "42   versicolor     virginica\n",
      "43   virginica     virginica\n",
      "44   versicolor     versicolor\n",
      "45   virginica     virginica\n",
      "46   setosa     setosa\n",
      "47   setosa     setosa\n",
      "48   setosa     setosa\n",
      "49   versicolor     versicolor\n",
      "50   setosa     setosa\n",
      "51   setosa     setosa\n",
      "52   virginica     virginica\n",
      "53   virginica     virginica\n",
      "54   virginica     virginica\n",
      "55   virginica     virginica\n",
      "56   virginica     virginica\n",
      "57   versicolor     versicolor\n",
      "58   virginica     virginica\n",
      "59   versicolor     versicolor\n"
     ]
    }
   ],
   "source": [
    "print(\"  predicted     Actual\")\n",
    "for i in range(len(pred)):\n",
    "    print(i,\" \",predn[i],\"   \",ytestn[i]) \n"
   ]
  },
  {
   "cell_type": "code",
   "execution_count": null,
   "metadata": {},
   "outputs": [],
   "source": []
  },
  {
   "cell_type": "code",
   "execution_count": null,
   "metadata": {},
   "outputs": [],
   "source": []
  },
  {
   "cell_type": "code",
   "execution_count": null,
   "metadata": {},
   "outputs": [],
   "source": []
  },
  {
   "cell_type": "code",
   "execution_count": null,
   "metadata": {},
   "outputs": [],
   "source": []
  },
  {
   "cell_type": "code",
   "execution_count": null,
   "metadata": {},
   "outputs": [],
   "source": []
  }
 ],
 "metadata": {
  "kernelspec": {
   "display_name": "Python 3",
   "language": "python",
   "name": "python3"
  },
  "language_info": {
   "codemirror_mode": {
    "name": "ipython",
    "version": 3
   },
   "file_extension": ".py",
   "mimetype": "text/x-python",
   "name": "python",
   "nbconvert_exporter": "python",
   "pygments_lexer": "ipython3",
   "version": "3.6.4"
  }
 },
 "nbformat": 4,
 "nbformat_minor": 2
}
