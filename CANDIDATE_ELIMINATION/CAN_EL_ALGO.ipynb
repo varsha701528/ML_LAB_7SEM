{
 "cells": [
  {
   "cell_type": "code",
   "execution_count": 22,
   "metadata": {},
   "outputs": [
    {
     "data": {
      "text/plain": [
       "[(1, 3), (2, 4), (3, 5)]"
      ]
     },
     "execution_count": 22,
     "metadata": {},
     "output_type": "execute_result"
    }
   ],
   "source": [
    "import csv\n",
    "def more_general(h1, h2): \n",
    "    more_general_parts = [] \n",
    "    for x, y in zip(h1, h2):\n",
    "        mg = x == \"?\" or (x != \"0\" and (x == y or y == \"0\"))\n",
    "        more_general_parts.append(mg)\n",
    "    return all(more_general_parts)\n",
    "l1 = [1, 2, 3] \n",
    "l2 = [3, 4, 5] \n",
    "list(zip(l1, l2))\n"
   ]
  },
  {
   "cell_type": "code",
   "execution_count": 23,
   "metadata": {},
   "outputs": [],
   "source": [
    "#min_generalizations\n",
    "def fulfills(example, hypothesis):\n",
    "# the implementation is the same as for hypotheses:\n",
    "    return more_general(hypothesis, example)\n",
    "\n",
    "def min_generalizations(h, x):#find S\n",
    "    h_new = list(h)\n",
    "    for i in range(len(h)):\n",
    "        if not fulfills(x[i:i+1], h[i:i+1]):\n",
    "            h_new[i] = '?' if h[i] != '0' else x[i]\n",
    "    return [tuple(h_new)]\n",
    "\n"
   ]
  },
  {
   "cell_type": "code",
   "execution_count": 24,
   "metadata": {},
   "outputs": [
    {
     "data": {
      "text/plain": [
       "[('rainy', 'windy', '?')]"
      ]
     },
     "execution_count": 24,
     "metadata": {},
     "output_type": "execute_result"
    }
   ],
   "source": [
    "min_generalizations(h=('0', '0'  , 'sunny'), x=('rainy', 'windy', 'cloudy'))"
   ]
  },
  {
   "cell_type": "code",
   "execution_count": 25,
   "metadata": {},
   "outputs": [],
   "source": [
    "def min_specializations(h, domains, x):#g,domains,-ve instance\n",
    "    results = []\n",
    "    for i in range(len(h)):\n",
    "        if h[i] == \"?\":\n",
    "            for val in domains[i]:\n",
    "                if x[i] != val:\n",
    "                    h_new = h[:i] + (val,) + h[i+1:]\n",
    "                    results.append(h_new) \n",
    "        elif h[i] != \"0\":\n",
    "            h_new = h[:i] + ('0',) + h[i+1:]\n",
    "            results.append(h_new)\n",
    "    return results\n",
    "        "
   ]
  },
  {
   "cell_type": "code",
   "execution_count": 26,
   "metadata": {},
   "outputs": [
    {
     "data": {
      "text/plain": [
       "[('a', 'x'), ('e', 'x'), ('?', '0')]"
      ]
     },
     "execution_count": 26,
     "metadata": {},
     "output_type": "execute_result"
    }
   ],
   "source": [
    "min_specializations(h=('?', 'x',),\n",
    "domains=[['a', 'b', 'e'], ['x', 'y']],\n",
    "x=('b', 'x')) "
   ]
  },
  {
   "cell_type": "code",
   "execution_count": 27,
   "metadata": {},
   "outputs": [
    {
     "name": "stdout",
     "output_type": "stream",
     "text": [
      "[('sunny', 'warm', 'normal', 'strong', 'warm', 'same', 'True'), ('sunny', 'warm', 'high', 'strong', 'warm', 'same', 'True'), ('rainy', 'cold', 'high', 'strong', 'warm', 'change', 'False'), ('sunny', 'warm', 'high', 'strong', 'cool', 'change', 'True')]\n"
     ]
    }
   ],
   "source": [
    "with open('enjoy.csv')  as csvFile:\n",
    "    examples = [tuple(line) for line in csv.reader(csvFile)]\n",
    "print(examples)\n"
   ]
  },
  {
   "cell_type": "code",
   "execution_count": 28,
   "metadata": {},
   "outputs": [
    {
     "data": {
      "text/plain": [
       "[['rainy', 'sunny'],\n",
       " ['cold', 'warm'],\n",
       " ['high', 'normal'],\n",
       " ['strong'],\n",
       " ['cool', 'warm'],\n",
       " ['change', 'same'],\n",
       " ['False', 'True']]"
      ]
     },
     "execution_count": 28,
     "metadata": {},
     "output_type": "execute_result"
    }
   ],
   "source": [
    "def get_domains(examples):\n",
    "    d = [set() for i in examples[0]]\n",
    "    for x in examples:\n",
    "        for i, xi in enumerate(x):\n",
    "            d[i].add(xi)\n",
    "    return [list(sorted(x)) for x in d]\n",
    "get_domains(examples)\n"
   ]
  },
  {
   "cell_type": "code",
   "execution_count": 29,
   "metadata": {},
   "outputs": [],
   "source": [
    "def generalize_S(x, G, S): \n",
    "    S_prev = list(S)\n",
    "    for s in S_prev:\n",
    "        if s not in S:\n",
    "            continue\n",
    "        if not fulfills(x, s):#not(s must be true for x)\n",
    "            S.remove(s)\n",
    "            Splus = min_generalizations(s, x)\n",
    "#keep only generalizations that have a counterpart in G\n",
    "            S.update([h for h in Splus if any([more_general(g,h)for g in G])])\n",
    "#remove hypotheses less specific than any other in S\n",
    "            S.difference_update([h for h in S if any([more_general(h, h1)for h1 in S if h != h1])])\n",
    "    return S\n"
   ]
  },
  {
   "cell_type": "code",
   "execution_count": 30,
   "metadata": {},
   "outputs": [],
   "source": [
    "def specialize_G(x, domains, G, S): \n",
    "    G_prev = list(G)\n",
    "    for g in G_prev:\n",
    "        if g not in G:\n",
    "            continue\n",
    "        if fulfills(x, g):\n",
    "            G.remove(g)\n",
    "            Gminus = min_specializations(g, domains, x)\n",
    "            #keep only specializations that have a conuterpart in S\n",
    "            G.update([h for h in Gminus if any([more_general(h, s)\n",
    "            for s in S])])\n",
    "            #remove hypotheses less general than any other in G\n",
    "            G.difference_update([h for h in G if any([more_general(g1, h)\n",
    "            for g1 in G if h != g1])])\n",
    "    return G\n",
    "\n"
   ]
  },
  {
   "cell_type": "code",
   "execution_count": 31,
   "metadata": {},
   "outputs": [],
   "source": [
    "def candidate_elimination(examples):\n",
    "    domains = get_domains(examples)[:-1]\n",
    "\n",
    "    G = set([(\"?\",)*len(domains)])#initial general hypothesis\n",
    "    S = set([(\"0\",)*len(domains)])#initial specific hypothesis\n",
    "    i=0\n",
    "    print(\"\\n G[{0}]:\".format(i),G) \n",
    "    print(\"\\n S[{0}]:\".format(i),S) \n",
    "    for xcx in examples:\n",
    "        i=i+1\n",
    "        x, cx = xcx[:-1], xcx[-1]\n",
    "    # Splitting data into attributes and decisions \n",
    "        if cx=='Y': # x is positive example\n",
    "            G = {g for g in G if fulfills(x, g)}\n",
    "            #remove any general hyp inconsistent with x\n",
    "            S = generalize_S(x, G, S)\n",
    "        else: # x is negative example\n",
    "            S = {s for s in S if not fulfills(x, s)}\n",
    "            #remove any specific hyp inconsistent with x\n",
    "            G = specialize_G(x, domains, G, S) \n",
    "            print(\"\\n G[{0}]:\".format(i),G) \n",
    "            print(\"\\n S[{0}]:\".format(i),S)\n",
    "\n",
    "    return S,G\n"
   ]
  },
  {
   "cell_type": "code",
   "execution_count": 32,
   "metadata": {},
   "outputs": [
    {
     "name": "stdout",
     "output_type": "stream",
     "text": [
      "\n",
      " G[0]: {('?', '?', '?', '?', '?', '?')}\n",
      "\n",
      " S[0]: {('0', '0', '0', '0', '0', '0')}\n",
      "\n",
      " G[1]: {('?', 'cold', '?', '?', '?', '?'), ('?', '?', '?', '?', '?', 'change'), ('?', '?', '?', '?', 'cool', '?'), ('?', '?', 'high', '?', '?', '?'), ('rainy', '?', '?', '?', '?', '?')}\n",
      "\n",
      " S[1]: {('0', '0', '0', '0', '0', '0')}\n",
      "\n",
      " G[2]: {('?', 'cold', '?', '?', '?', '?'), ('?', '?', '?', '?', '?', 'change'), ('?', '?', '?', '?', 'cool', '?'), ('rainy', '?', '?', '?', '?', '?')}\n",
      "\n",
      " S[2]: {('0', '0', '0', '0', '0', '0')}\n",
      "\n",
      " G[3]: {('rainy', '?', '?', '?', '?', 'same'), ('sunny', 'cold', '?', '?', '?', '?'), ('?', '?', '?', '?', 'cool', '?'), ('?', 'cold', 'normal', '?', '?', '?'), ('?', 'cold', '?', '?', '?', 'same'), ('?', 'warm', '?', '?', '?', 'change'), ('?', '?', 'normal', '?', '?', 'change'), ('sunny', '?', '?', '?', '?', 'change'), ('rainy', 'warm', '?', '?', '?', '?'), ('rainy', '?', 'normal', '?', '?', '?')}\n",
      "\n",
      " S[3]: {('0', '0', '0', '0', '0', '0')}\n",
      "\n",
      " G[4]: {('rainy', '?', '?', '?', '?', 'same'), ('sunny', 'cold', '?', '?', '?', '?'), ('sunny', '?', '?', '?', 'warm', 'change'), ('rainy', '?', '?', '?', 'cool', '?'), ('?', 'cold', 'normal', '?', '?', '?'), ('?', '?', '?', '?', 'cool', 'same'), ('?', 'cold', '?', '?', '?', 'same'), ('?', 'warm', '?', '?', 'warm', 'change'), ('?', '?', 'normal', '?', '?', 'change'), ('?', 'cold', '?', '?', 'cool', '?'), ('?', '?', 'normal', '?', 'cool', '?'), ('rainy', 'warm', '?', '?', '?', '?'), ('rainy', '?', 'normal', '?', '?', '?')}\n",
      "\n",
      " S[4]: {('0', '0', '0', '0', '0', '0')}\n"
     ]
    }
   ],
   "source": [
    "def enumerateHypothesesBetween_s_g(s, g):\n",
    "    hypotheses = []\n",
    "    for i, constraint in enumerate(g):\n",
    "        if constraint != s[i]: \n",
    "            hypothesis = g[:] \n",
    "            hypothesis[i]=s[i] \n",
    "            hypotheses.append(hypothesis)\n",
    "    return hypotheses\n",
    "\n",
    "def enumerateVersionSpace(S, G):\n",
    "    hypotheses = [] \n",
    "    hypotheses += S \n",
    "    hypotheses += G\n",
    "    print(\"Initial Hypothesis\",hypotheses)\n",
    "    s=hypotheses[0]#specific hypothesis for i in range(1,len(hypotheses)):\n",
    "    inBetweenHypotheses =enumerateHypothesesBetween_s_g(list(s),list(hypotheses[i]))\n",
    "    hypotheses.extend(inBetweenHypotheses)\n",
    "    print(\"Hypothesis with duplicates\",hypotheses)\n",
    "    #Remove duplicates   from hypotheses\n",
    "    setH = set()\n",
    "    for h in hypotheses:\n",
    "        setH.add(tuple(h))\n",
    "        ans=[list(x) for x in setH]\n",
    "        print(\"Version Space:\",ans)\n",
    "\n",
    "S,G=candidate_elimination(examples) \n"
   ]
  },
  {
   "cell_type": "code",
   "execution_count": 33,
   "metadata": {},
   "outputs": [
    {
     "data": {
      "text/plain": [
       "{('?', '?', '?', '?', 'cool', 'same'),\n",
       " ('?', '?', 'normal', '?', '?', 'change'),\n",
       " ('?', '?', 'normal', '?', 'cool', '?'),\n",
       " ('?', 'cold', '?', '?', '?', 'same'),\n",
       " ('?', 'cold', '?', '?', 'cool', '?'),\n",
       " ('?', 'cold', 'normal', '?', '?', '?'),\n",
       " ('?', 'warm', '?', '?', 'warm', 'change'),\n",
       " ('rainy', '?', '?', '?', '?', 'same'),\n",
       " ('rainy', '?', '?', '?', 'cool', '?'),\n",
       " ('rainy', '?', 'normal', '?', '?', '?'),\n",
       " ('rainy', 'warm', '?', '?', '?', '?'),\n",
       " ('sunny', '?', '?', '?', 'warm', 'change'),\n",
       " ('sunny', 'cold', '?', '?', '?', '?')}"
      ]
     },
     "execution_count": 33,
     "metadata": {},
     "output_type": "execute_result"
    }
   ],
   "source": [
    "G\n"
   ]
  },
  {
   "cell_type": "code",
   "execution_count": 34,
   "metadata": {},
   "outputs": [
    {
     "data": {
      "text/plain": [
       "{('0', '0', '0', '0', '0', '0')}"
      ]
     },
     "execution_count": 34,
     "metadata": {},
     "output_type": "execute_result"
    }
   ],
   "source": [
    "S\n"
   ]
  }
 ],
 "metadata": {
  "kernelspec": {
   "display_name": "Python 3",
   "language": "python",
   "name": "python3"
  },
  "language_info": {
   "codemirror_mode": {
    "name": "ipython",
    "version": 3
   },
   "file_extension": ".py",
   "mimetype": "text/x-python",
   "name": "python",
   "nbconvert_exporter": "python",
   "pygments_lexer": "ipython3",
   "version": "3.6.4"
  }
 },
 "nbformat": 4,
 "nbformat_minor": 2
}
